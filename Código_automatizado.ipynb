{
  "nbformat": 4,
  "nbformat_minor": 0,
  "metadata": {
    "colab": {
      "name": "Código_automatizado.ipynb",
      "provenance": [],
      "collapsed_sections": []
    },
    "kernelspec": {
      "name": "python3",
      "display_name": "Python 3"
    },
    "language_info": {
      "name": "python"
    }
  },
  "cells": [
    {
      "cell_type": "code",
      "metadata": {
        "id": "TzfZAm8dE4Rw"
      },
      "source": [
        "import numpy as np\n",
        "import matplotlib.pyplot as plt\n",
        "import pandas as pd\n",
        "from shapely.geometry import LineString\n",
        "from scipy.interpolate import pchip\n",
        "# cubic Spline interpolation \n",
        "from scipy.interpolate import CubicSpline"
      ],
      "execution_count": 67,
      "outputs": []
    },
    {
      "cell_type": "code",
      "metadata": {
        "id": "-cRZDgcrE6J-"
      },
      "source": [
        "data1 = np.loadtxt(\"/content/drive/MyDrive/Fisica/Datos/estrellak.txt\") #Se descomenta la estrella que se quiere estudiar\n",
        "#data1 = np.loadtxt('/content/drive/MyDrive/Fisica/Datos/Arcturus.txt')\n",
        "#data1 = np.loadtxt('/content/drive/MyDrive/Fisica/Datos/Arcturus_UVES.txt')\n",
        "\n",
        "datos = data1\n",
        "x = datos[:,0]#longitud de onda\n",
        "y = datos[:,1]#flujo"
      ],
      "execution_count": 68,
      "outputs": []
    },
    {
      "cell_type": "code",
      "metadata": {
        "id": "RioKFbr9FHyx"
      },
      "source": [
        "#***************  Parte para realizar el código de bisectores ********************************#\n",
        "def longitudes_flujo(x,y, y_flujo):\n",
        "  flujo=np.array([y_flujo for i in x])\n",
        "  line_1 = LineString(np.column_stack((y,x)))\n",
        "  line_2 =LineString(np.column_stack((flujo,x)))\n",
        "  intersection = line_1.intersection(line_2)\n",
        "  x_corto, y_corto = LineString(intersection).xy\n",
        "  return y_corto\n",
        "\n",
        "# Calculo de longitudes promedio para cada valor del flujo \n",
        "def longitudes_promedio(x, y, lista_y): \n",
        "  #lista_y = np.linspace(y_min, y_max, 5000)\n",
        "  promedio = np.zeros(len(lista_y))\n",
        "  \n",
        "  for i in range(len(lista_y)):\n",
        "    longitudes= longitudes_flujo(x, y, lista_y[i])\n",
        "    promedio[i]= np.sum(longitudes)/len(longitudes)\n",
        "  return promedio\n",
        "#*********************************************************************************************#\n"
      ],
      "execution_count": 69,
      "outputs": []
    },
    {
      "cell_type": "markdown",
      "metadata": {
        "id": "Uke_jRQDiY_z"
      },
      "source": [
        "# HD 156026"
      ]
    },
    {
      "cell_type": "code",
      "metadata": {
        "id": "X6b6nmulM89v"
      },
      "source": [
        "#Rangos de longitudes de onda \n",
        "\n",
        "rangos_lineas_esp =[(200,300),(300,370),(740,900),(1150,1190), (1440,1470), (1755,1780), (1840,1870), (2250,2270), \n",
        "                   (2350,2380),(2235,2255),(2550,2600), (3280,3380), (2480,2520),(2890,2920),\n",
        "                (3020,3050),(3250,3300),(4600,4700),(4700,4800),(3680,3700),(3740,3770),(3999,4020),\n",
        "                 (3910,3960),(4880,4959),(5080,5110),(4950,5010),(3850,3890)]\n",
        "\n",
        "flujo_max = np.array([0.87, 0.945, 0.95, 0.945, 0.985, 0.965, 0.979, 0.94, 0.965, 0.93, 0.964, 0.9,0.89, 0.97, \n",
        "                   0.99,0.90, 0.945, 0.89, 0.98,  0.99,  0.97, 0.983, 0.8, 0.97, 0.92, 0.985 ])\n"
      ],
      "execution_count": 70,
      "outputs": []
    },
    {
      "cell_type": "markdown",
      "metadata": {
        "id": "ipWk5HTANfk_"
      },
      "source": [
        "# **ARCTURUS ALTA RESOLUCIÓN**"
      ]
    },
    {
      "cell_type": "code",
      "metadata": {
        "id": "RlUtxbo6NHug"
      },
      "source": [
        "#Arcturus\n",
        "\n",
        "#rangos_lineas_esp =[(2150,2300), (2350,2450), (3400,3550), (4200,4440), (4910,5050), (5659,5700), (5850,5920),\n",
        "#                   (6780,6850), (6980,7090), (6740,6790), (7500,7580), (9100,9200), (7300,7400), (8100,8300),\n",
        "#                  (8450,8550), (9000,9100), (12100,12200), (12320,12400), (9900,10100), (10090,10170),\n",
        "#                  (10645,10700), (10495,10590), (12700,12800), (13100,13200), (12800,13000), (10350,10450),\n",
        "#                   ]\n",
        "\n",
        "#arturs \n",
        "#flujo_max = np.array([0.9, 0.9, 0.9, 0.9, 0.94, 0.9, 0.9,0.85, 0.91, 0.89, 0.92, 0.9,0.974,\n",
        "#                    0.943, 0.92, 0.8,0.85, 0.85, 0.89, 0.92, 0.92, 0.9, 0.72, 0.945, 0.95, 0.935])\n"
      ],
      "execution_count": 71,
      "outputs": []
    },
    {
      "cell_type": "markdown",
      "metadata": {
        "id": "D-iz7y4bN2gX"
      },
      "source": [
        "# ARCTURUS UVES (RESOLUCIÓN MENOR) "
      ]
    },
    {
      "cell_type": "code",
      "metadata": {
        "id": "ofNdJwgGN_pD"
      },
      "source": [
        "#rangos_lineas_esp=[(10,90), (90,150), (550,650),(910,1050), (1245,1280),(1555,1575), (1645,1665), \n",
        " ##                  (2050,2080), (2140,2180),(2030,2055), (2350,2395), (3100,3150), (2280,2310),\n",
        "   ##                (2690,2730), (2810,2850), (3050,3090), (4400,4500), (4540,4600), (3480,3500),\n",
        "    #               (3530,3570),(3799,3820), (3720,3750), (4710,4740), (4890,4910), (4750,4800),\n",
        "    #               (3650,3700)]\n",
        "              \n",
        "#flujo_max = np.array([0.84 , 0.915, 0.843, 0.9, 0.925, 0.87, 0.94, 0.843, 0.9, 0.81, 0.95,0.9,\n",
        " #                     0.78, 0.94, 0.93, 0.91, 0.905, 0.85, 0.925, 0.955, 0.92, 0.92, 0.75, 0.88,\n",
        " #                     0.94, 0.96  ])"
      ],
      "execution_count": 72,
      "outputs": []
    },
    {
      "cell_type": "code",
      "metadata": {
        "id": "Mrlc0kspFMAM"
      },
      "source": [
        "#colores\n",
        "Cd = '#ff0303' #Rojo \n",
        "Fe = '#1900ff' #Azul \n",
        "Ti = '#008a35' #Verde\n",
        "lista_de_colores = np.array([Cd,Fe,Fe,Fe,Ti,Fe,Ti,Fe,Fe,Ti,Fe,Cd,Fe,Fe,Ti,Fe,Ti,Fe,Ti,Ti,Ti,Ti,Fe,Fe,Ti,Fe])\n",
        "\n",
        "long_onda_natural = np.array([7400.179,7401.6826, 7411.1526, 7418.6662, 7424.5858, 7430.8555, 7432.6704,7440.911,\n",
        "                             7443.0217,7440.5765, 7447.3931, 7462.309,7445.7485, 7453.9966, 7456.5841,7461.5194,\n",
        "                             7489.578,7491.6468,7469.938,7471.2131, 7476.3747,7474.8944, 7495.0651,7498.5298, \n",
        "                             7496.102,7473.5538]) \n",
        "\n",
        "#constante\n",
        "\n",
        "\n",
        "velocidad_de_la_luz = 300000\n",
        "\n",
        "label=np.array(['Cr','Fe','','','Ti','','','','','','','','','','','','','','','','','','','','',''])"
      ],
      "execution_count": 74,
      "outputs": []
    },
    {
      "cell_type": "code",
      "metadata": {
        "colab": {
          "base_uri": "https://localhost:8080/",
          "height": 295
        },
        "id": "Abtg6WFVFOt_",
        "outputId": "a448ed68-54ce-4464-9086-162cc34c2307"
      },
      "source": [
        "\n",
        "velocidad =[]\n",
        "flux =[]\n",
        "for i in range(len(rangos_lineas_esp)):\n",
        "  min_ran = rangos_lineas_esp[i][0]\n",
        "  max_ran = rangos_lineas_esp[i][1]\n",
        "  eje_cubic= CubicSpline(x[min_ran:max_ran],y[min_ran:max_ran],bc_type='not-a-knot', extrapolate=None)\n",
        "  eje_x = np.linspace(x[min_ran:max_ran].min(), x[min_ran:max_ran].max(), num=25000, endpoint=True)\n",
        "  flujomin = np.min(eje_cubic(eje_x)) + 0.01\n",
        "\n",
        "  \n",
        "  flujomax = flujo_max[i]\n",
        "  flujos = np.linspace(flujomin, flujomax, 100)\n",
        "  long_average = longitudes_promedio(eje_x,eje_cubic(eje_x), flujos)\n",
        "  velocidad_estrella = velocidad_de_la_luz*(long_average/long_onda_natural[i]-1)\n",
        "  velocidad.append(velocidad_estrella[0])\n",
        "  flux.append(flujos[0])\n",
        "  plt.plot( velocidad_estrella,flujos,lista_de_colores[i], label=label[i] ,linewidth= 1)\n",
        "  plt.title('Bisectrices HD 156026')\n",
        "  plt.xlabel(\"Velocidad km/s\")\n",
        "  plt.ylabel('Flujo (Unidades arbitrarias)')\n",
        "  plt.legend()\n",
        "  df = pd.DataFrame({ 'Velocidad': velocidad,'Flujos': flux,})\n",
        "\n",
        "plt.savefig(\"Bisectores_HD156026H.pdf\")\n"
      ],
      "execution_count": 75,
      "outputs": [
        {
          "output_type": "display_data",
          "data": {
            "image/png": "[encoded data removed]",
            "text/plain": [
              "<Figure size 432x288 with 1 Axes>"
            ]
          },
          "metadata": {
            "tags": [],
            "needs_background": "light"
          }
        }
      ]
    },
    {
      "cell_type": "code",
      "metadata": {
        "colab": {
          "base_uri": "https://localhost:8080/",
          "height": 855
        },
        "id": "Y9thqEtnYIlP",
        "outputId": "71c943bc-9998-40c4-d228-50bdda2fb210"
      },
      "source": [
        "df"
      ],
      "execution_count": 76,
      "outputs": [
        {
          "output_type": "execute_result",
          "data": {
            "text/html": [
              "<div>\n",
              "<style scoped>\n",
              "    .dataframe tbody tr th:only-of-type {\n",
              "        vertical-align: middle;\n",
              "    }\n",
              "\n",
              "    .dataframe tbody tr th {\n",
              "        vertical-align: top;\n",
              "    }\n",
              "\n",
              "    .dataframe thead th {\n",
              "        text-align: right;\n",
              "    }\n",
              "</style>\n",
              "<table border=\"1\" class=\"dataframe\">\n",
              "  <thead>\n",
              "    <tr style=\"text-align: right;\">\n",
              "      <th></th>\n",
              "      <th>Velocidad</th>\n",
              "      <th>Flujos</th>\n",
              "    </tr>\n",
              "  </thead>\n",
              "  <tbody>\n",
              "    <tr>\n",
              "      <th>0</th>\n",
              "      <td>0.909114</td>\n",
              "      <td>0.383204</td>\n",
              "    </tr>\n",
              "    <tr>\n",
              "      <th>1</th>\n",
              "      <td>0.817513</td>\n",
              "      <td>0.758284</td>\n",
              "    </tr>\n",
              "    <tr>\n",
              "      <th>2</th>\n",
              "      <td>0.862641</td>\n",
              "      <td>0.500314</td>\n",
              "    </tr>\n",
              "    <tr>\n",
              "      <th>3</th>\n",
              "      <td>0.937804</td>\n",
              "      <td>0.709471</td>\n",
              "    </tr>\n",
              "    <tr>\n",
              "      <th>4</th>\n",
              "      <td>1.056518</td>\n",
              "      <td>0.912359</td>\n",
              "    </tr>\n",
              "    <tr>\n",
              "      <th>5</th>\n",
              "      <td>0.553106</td>\n",
              "      <td>0.885590</td>\n",
              "    </tr>\n",
              "    <tr>\n",
              "      <th>6</th>\n",
              "      <td>1.047547</td>\n",
              "      <td>0.951018</td>\n",
              "    </tr>\n",
              "    <tr>\n",
              "      <th>7</th>\n",
              "      <td>0.906933</td>\n",
              "      <td>0.734860</td>\n",
              "    </tr>\n",
              "    <tr>\n",
              "      <th>8</th>\n",
              "      <td>0.791866</td>\n",
              "      <td>0.781274</td>\n",
              "    </tr>\n",
              "    <tr>\n",
              "      <th>9</th>\n",
              "      <td>0.905126</td>\n",
              "      <td>0.690775</td>\n",
              "    </tr>\n",
              "    <tr>\n",
              "      <th>10</th>\n",
              "      <td>0.332336</td>\n",
              "      <td>0.797481</td>\n",
              "    </tr>\n",
              "    <tr>\n",
              "      <th>11</th>\n",
              "      <td>0.844539</td>\n",
              "      <td>0.348337</td>\n",
              "    </tr>\n",
              "    <tr>\n",
              "      <th>12</th>\n",
              "      <td>0.839247</td>\n",
              "      <td>0.431370</td>\n",
              "    </tr>\n",
              "    <tr>\n",
              "      <th>13</th>\n",
              "      <td>0.819600</td>\n",
              "      <td>0.924817</td>\n",
              "    </tr>\n",
              "    <tr>\n",
              "      <th>14</th>\n",
              "      <td>0.851325</td>\n",
              "      <td>0.919757</td>\n",
              "    </tr>\n",
              "    <tr>\n",
              "      <th>15</th>\n",
              "      <td>0.801370</td>\n",
              "      <td>0.700795</td>\n",
              "    </tr>\n",
              "    <tr>\n",
              "      <th>16</th>\n",
              "      <td>1.055711</td>\n",
              "      <td>0.741956</td>\n",
              "    </tr>\n",
              "    <tr>\n",
              "      <th>17</th>\n",
              "      <td>0.857695</td>\n",
              "      <td>0.647139</td>\n",
              "    </tr>\n",
              "    <tr>\n",
              "      <th>18</th>\n",
              "      <td>1.120839</td>\n",
              "      <td>0.881517</td>\n",
              "    </tr>\n",
              "    <tr>\n",
              "      <th>19</th>\n",
              "      <td>1.498177</td>\n",
              "      <td>0.943872</td>\n",
              "    </tr>\n",
              "    <tr>\n",
              "      <th>20</th>\n",
              "      <td>0.626751</td>\n",
              "      <td>0.929184</td>\n",
              "    </tr>\n",
              "    <tr>\n",
              "      <th>21</th>\n",
              "      <td>1.127714</td>\n",
              "      <td>0.915122</td>\n",
              "    </tr>\n",
              "    <tr>\n",
              "      <th>22</th>\n",
              "      <td>0.942884</td>\n",
              "      <td>0.427577</td>\n",
              "    </tr>\n",
              "    <tr>\n",
              "      <th>23</th>\n",
              "      <td>0.887849</td>\n",
              "      <td>0.884984</td>\n",
              "    </tr>\n",
              "    <tr>\n",
              "      <th>24</th>\n",
              "      <td>0.950071</td>\n",
              "      <td>0.784705</td>\n",
              "    </tr>\n",
              "    <tr>\n",
              "      <th>25</th>\n",
              "      <td>0.814915</td>\n",
              "      <td>0.920139</td>\n",
              "    </tr>\n",
              "  </tbody>\n",
              "</table>\n",
              "</div>"
            ],
            "text/plain": [
              "    Velocidad    Flujos\n",
              "0    0.909114  0.383204\n",
              "1    0.817513  0.758284\n",
              "2    0.862641  0.500314\n",
              "3    0.937804  0.709471\n",
              "4    1.056518  0.912359\n",
              "5    0.553106  0.885590\n",
              "6    1.047547  0.951018\n",
              "7    0.906933  0.734860\n",
              "8    0.791866  0.781274\n",
              "9    0.905126  0.690775\n",
              "10   0.332336  0.797481\n",
              "11   0.844539  0.348337\n",
              "12   0.839247  0.431370\n",
              "13   0.819600  0.924817\n",
              "14   0.851325  0.919757\n",
              "15   0.801370  0.700795\n",
              "16   1.055711  0.741956\n",
              "17   0.857695  0.647139\n",
              "18   1.120839  0.881517\n",
              "19   1.498177  0.943872\n",
              "20   0.626751  0.929184\n",
              "21   1.127714  0.915122\n",
              "22   0.942884  0.427577\n",
              "23   0.887849  0.884984\n",
              "24   0.950071  0.784705\n",
              "25   0.814915  0.920139"
            ]
          },
          "metadata": {
            "tags": []
          },
          "execution_count": 76
        }
      ]
    },
    {
      "cell_type": "code",
      "metadata": {
        "id": "fweJJUvjaBAn"
      },
      "source": [
        "longitud = [7400.179 , 7401.6826 ,7411.1526 ,7418.6662 ,7424.5858 ,7430.8555, 7432.6704,\n",
        " 7440.911  ,7443.0217 ,7440.5765 ,7447.3931 ,7462.309 , 7445.7485 ,7453.9966,\n",
        " 7456.5841 ,7461.5194 ,7489.578  ,7491.6468 ,7469.938 , 7471.2131 ,7476.3747,\n",
        " 7474.8944 ,7495.0651 ,7498.5298 ,7496.102 , 7473.5538]\n"
      ],
      "execution_count": 77,
      "outputs": []
    },
    {
      "cell_type": "code",
      "metadata": {
        "id": "t1rhg6QAQrXT"
      },
      "source": [
        "df.insert(0, 'λ',longitud)"
      ],
      "execution_count": 78,
      "outputs": []
    },
    {
      "cell_type": "code",
      "metadata": {
        "colab": {
          "base_uri": "https://localhost:8080/",
          "height": 855
        },
        "id": "vsDzCqSkUmiR",
        "outputId": "22f9f842-daab-4c9e-8e4b-88c0291e6609"
      },
      "source": [
        "df"
      ],
      "execution_count": 79,
      "outputs": [
        {
          "output_type": "execute_result",
          "data": {
            "text/html": [
              "<div>\n",
              "<style scoped>\n",
              "    .dataframe tbody tr th:only-of-type {\n",
              "        vertical-align: middle;\n",
              "    }\n",
              "\n",
              "    .dataframe tbody tr th {\n",
              "        vertical-align: top;\n",
              "    }\n",
              "\n",
              "    .dataframe thead th {\n",
              "        text-align: right;\n",
              "    }\n",
              "</style>\n",
              "<table border=\"1\" class=\"dataframe\">\n",
              "  <thead>\n",
              "    <tr style=\"text-align: right;\">\n",
              "      <th></th>\n",
              "      <th>λ</th>\n",
              "      <th>Velocidad</th>\n",
              "      <th>Flujos</th>\n",
              "    </tr>\n",
              "  </thead>\n",
              "  <tbody>\n",
              "    <tr>\n",
              "      <th>0</th>\n",
              "      <td>7400.1790</td>\n",
              "      <td>0.909114</td>\n",
              "      <td>0.383204</td>\n",
              "    </tr>\n",
              "    <tr>\n",
              "      <th>1</th>\n",
              "      <td>7401.6826</td>\n",
              "      <td>0.817513</td>\n",
              "      <td>0.758284</td>\n",
              "    </tr>\n",
              "    <tr>\n",
              "      <th>2</th>\n",
              "      <td>7411.1526</td>\n",
              "      <td>0.862641</td>\n",
              "      <td>0.500314</td>\n",
              "    </tr>\n",
              "    <tr>\n",
              "      <th>3</th>\n",
              "      <td>7418.6662</td>\n",
              "      <td>0.937804</td>\n",
              "      <td>0.709471</td>\n",
              "    </tr>\n",
              "    <tr>\n",
              "      <th>4</th>\n",
              "      <td>7424.5858</td>\n",
              "      <td>1.056518</td>\n",
              "      <td>0.912359</td>\n",
              "    </tr>\n",
              "    <tr>\n",
              "      <th>5</th>\n",
              "      <td>7430.8555</td>\n",
              "      <td>0.553106</td>\n",
              "      <td>0.885590</td>\n",
              "    </tr>\n",
              "    <tr>\n",
              "      <th>6</th>\n",
              "      <td>7432.6704</td>\n",
              "      <td>1.047547</td>\n",
              "      <td>0.951018</td>\n",
              "    </tr>\n",
              "    <tr>\n",
              "      <th>7</th>\n",
              "      <td>7440.9110</td>\n",
              "      <td>0.906933</td>\n",
              "      <td>0.734860</td>\n",
              "    </tr>\n",
              "    <tr>\n",
              "      <th>8</th>\n",
              "      <td>7443.0217</td>\n",
              "      <td>0.791866</td>\n",
              "      <td>0.781274</td>\n",
              "    </tr>\n",
              "    <tr>\n",
              "      <th>9</th>\n",
              "      <td>7440.5765</td>\n",
              "      <td>0.905126</td>\n",
              "      <td>0.690775</td>\n",
              "    </tr>\n",
              "    <tr>\n",
              "      <th>10</th>\n",
              "      <td>7447.3931</td>\n",
              "      <td>0.332336</td>\n",
              "      <td>0.797481</td>\n",
              "    </tr>\n",
              "    <tr>\n",
              "      <th>11</th>\n",
              "      <td>7462.3090</td>\n",
              "      <td>0.844539</td>\n",
              "      <td>0.348337</td>\n",
              "    </tr>\n",
              "    <tr>\n",
              "      <th>12</th>\n",
              "      <td>7445.7485</td>\n",
              "      <td>0.839247</td>\n",
              "      <td>0.431370</td>\n",
              "    </tr>\n",
              "    <tr>\n",
              "      <th>13</th>\n",
              "      <td>7453.9966</td>\n",
              "      <td>0.819600</td>\n",
              "      <td>0.924817</td>\n",
              "    </tr>\n",
              "    <tr>\n",
              "      <th>14</th>\n",
              "      <td>7456.5841</td>\n",
              "      <td>0.851325</td>\n",
              "      <td>0.919757</td>\n",
              "    </tr>\n",
              "    <tr>\n",
              "      <th>15</th>\n",
              "      <td>7461.5194</td>\n",
              "      <td>0.801370</td>\n",
              "      <td>0.700795</td>\n",
              "    </tr>\n",
              "    <tr>\n",
              "      <th>16</th>\n",
              "      <td>7489.5780</td>\n",
              "      <td>1.055711</td>\n",
              "      <td>0.741956</td>\n",
              "    </tr>\n",
              "    <tr>\n",
              "      <th>17</th>\n",
              "      <td>7491.6468</td>\n",
              "      <td>0.857695</td>\n",
              "      <td>0.647139</td>\n",
              "    </tr>\n",
              "    <tr>\n",
              "      <th>18</th>\n",
              "      <td>7469.9380</td>\n",
              "      <td>1.120839</td>\n",
              "      <td>0.881517</td>\n",
              "    </tr>\n",
              "    <tr>\n",
              "      <th>19</th>\n",
              "      <td>7471.2131</td>\n",
              "      <td>1.498177</td>\n",
              "      <td>0.943872</td>\n",
              "    </tr>\n",
              "    <tr>\n",
              "      <th>20</th>\n",
              "      <td>7476.3747</td>\n",
              "      <td>0.626751</td>\n",
              "      <td>0.929184</td>\n",
              "    </tr>\n",
              "    <tr>\n",
              "      <th>21</th>\n",
              "      <td>7474.8944</td>\n",
              "      <td>1.127714</td>\n",
              "      <td>0.915122</td>\n",
              "    </tr>\n",
              "    <tr>\n",
              "      <th>22</th>\n",
              "      <td>7495.0651</td>\n",
              "      <td>0.942884</td>\n",
              "      <td>0.427577</td>\n",
              "    </tr>\n",
              "    <tr>\n",
              "      <th>23</th>\n",
              "      <td>7498.5298</td>\n",
              "      <td>0.887849</td>\n",
              "      <td>0.884984</td>\n",
              "    </tr>\n",
              "    <tr>\n",
              "      <th>24</th>\n",
              "      <td>7496.1020</td>\n",
              "      <td>0.950071</td>\n",
              "      <td>0.784705</td>\n",
              "    </tr>\n",
              "    <tr>\n",
              "      <th>25</th>\n",
              "      <td>7473.5538</td>\n",
              "      <td>0.814915</td>\n",
              "      <td>0.920139</td>\n",
              "    </tr>\n",
              "  </tbody>\n",
              "</table>\n",
              "</div>"
            ],
            "text/plain": [
              "            λ  Velocidad    Flujos\n",
              "0   7400.1790   0.909114  0.383204\n",
              "1   7401.6826   0.817513  0.758284\n",
              "2   7411.1526   0.862641  0.500314\n",
              "3   7418.6662   0.937804  0.709471\n",
              "4   7424.5858   1.056518  0.912359\n",
              "5   7430.8555   0.553106  0.885590\n",
              "6   7432.6704   1.047547  0.951018\n",
              "7   7440.9110   0.906933  0.734860\n",
              "8   7443.0217   0.791866  0.781274\n",
              "9   7440.5765   0.905126  0.690775\n",
              "10  7447.3931   0.332336  0.797481\n",
              "11  7462.3090   0.844539  0.348337\n",
              "12  7445.7485   0.839247  0.431370\n",
              "13  7453.9966   0.819600  0.924817\n",
              "14  7456.5841   0.851325  0.919757\n",
              "15  7461.5194   0.801370  0.700795\n",
              "16  7489.5780   1.055711  0.741956\n",
              "17  7491.6468   0.857695  0.647139\n",
              "18  7469.9380   1.120839  0.881517\n",
              "19  7471.2131   1.498177  0.943872\n",
              "20  7476.3747   0.626751  0.929184\n",
              "21  7474.8944   1.127714  0.915122\n",
              "22  7495.0651   0.942884  0.427577\n",
              "23  7498.5298   0.887849  0.884984\n",
              "24  7496.1020   0.950071  0.784705\n",
              "25  7473.5538   0.814915  0.920139"
            ]
          },
          "metadata": {
            "tags": []
          },
          "execution_count": 79
        }
      ]
    },
    {
      "cell_type": "code",
      "metadata": {
        "id": "Ifqa-ydnY0LA"
      },
      "source": [
        "df.to_excel('Datos_Arcturus_UVES.xlsx', index=False)\n",
        "\n"
      ],
      "execution_count": 80,
      "outputs": []
    },
    {
      "cell_type": "code",
      "metadata": {
        "colab": {
          "base_uri": "https://localhost:8080/",
          "height": 295
        },
        "id": "g_JUyTxKepbv",
        "outputId": "899b8105-3585-418e-a0cd-d762c53dedac"
      },
      "source": [
        "\n",
        "for i in range(26):\n",
        "  plt.scatter(velocidad[i], flux[i], c= lista_de_colores[i], label =label[i])\n",
        "\n",
        "plt.legend()\n",
        "plt.xlabel(\"Velocidad km/s\")\n",
        "plt.ylabel('Flujo (Unidades arbitrarias)')\n",
        "plt.title('Extremos de las bisectrices HD 156026')\n",
        "plt.savefig(\"HD156026.pdf\")\n"
      ],
      "execution_count": 81,
      "outputs": [
        {
          "output_type": "display_data",
          "data": {
            "image/png": "[encoded data removed]",
            "text/plain": [
              "<Figure size 432x288 with 1 Axes>"
            ]
          },
          "metadata": {
            "tags": [],
            "needs_background": "light"
          }
        }
      ]
    },
    {
      "cell_type": "code",
      "metadata": {
        "id": "LYQrp3rSg5Y2"
      },
      "source": [
        ""
      ],
      "execution_count": null,
      "outputs": []
    }
  ]
}